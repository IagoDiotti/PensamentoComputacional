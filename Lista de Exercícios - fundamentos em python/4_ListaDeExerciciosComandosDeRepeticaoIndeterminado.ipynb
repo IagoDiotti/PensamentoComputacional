{
  "nbformat": 4,
  "nbformat_minor": 0,
  "metadata": {
    "colab": {
      "provenance": [],
      "authorship_tag": "ABX9TyPO5S30vBKcc9RUgMS8st1y"
    },
    "kernelspec": {
      "name": "python3",
      "display_name": "Python 3"
    },
    "language_info": {
      "name": "python"
    }
  },
  "cells": [
    {
      "cell_type": "markdown",
      "source": [
        "# Exercícios de Aula - Comandos de repetição indeterminado"
      ],
      "metadata": {
        "id": "P6w9DKeYCYaU"
      }
    },
    {
      "cell_type": "markdown",
      "source": [
        "### 1- Faça um algoritmo em Python que leia a nota de vários alunos de uma turma. Ao final, deve ser escrita a média geral da turma. A leitura das médias somente encerra quando uma nota negativa for digitada."
      ],
      "metadata": {
        "id": "45Rdj_zqCgYU"
      }
    },
    {
      "cell_type": "code",
      "execution_count": null,
      "metadata": {
        "colab": {
          "base_uri": "https://localhost:8080/"
        },
        "id": "RWmq5aTTCX38",
        "outputId": "d3aede92-1fb2-40cb-bf39-6e79ab6276f4"
      },
      "outputs": [
        {
          "output_type": "stream",
          "name": "stdout",
          "text": [
            "Digite a nota do aluno: 10\n",
            "Digite a nota do aluno: 0\n",
            "Digite a nota do aluno: -1\n",
            "A média final da turma foi: 5.0\n"
          ]
        }
      ],
      "source": [
        "nota = 0\n",
        "media = 0\n",
        "contador = 0\n",
        "\n",
        "\n",
        "while nota >= 0:\n",
        "  nota = float(input(\"Digite a nota do aluno: \"))\n",
        "  if nota >= 0:\n",
        "      contador += 1\n",
        "      media += nota\n",
        "      media = media / contador\n",
        "  else:\n",
        "      break\n",
        "\n",
        "\n",
        "print(\"A média final da turma foi:\", media )\n"
      ]
    },
    {
      "cell_type": "markdown",
      "source": [
        "### 2- Faça um programa em Python para repetir a leitura de um número enquanto o valor fornecido for diferente de 0. Para cada número fornecido, escrever se ele é NEGATIVO ou POSITIVO. Quando o número 0 for fornecido o algoritmo deve encerrar informando o usuário."
      ],
      "metadata": {
        "id": "bIwdL_8AE8ce"
      }
    },
    {
      "cell_type": "code",
      "source": [
        "num = 1\n",
        "while num != 0:\n",
        "  num = float(input(\"Digite um número: \"))\n",
        "  if num > 0:\n",
        "    print(\"O número é positivo\")\n",
        "  elif num < 0:\n",
        "    print(\"O número é negativo\")"
      ],
      "metadata": {
        "colab": {
          "base_uri": "https://localhost:8080/"
        },
        "id": "bZ8z5UnqFDTd",
        "outputId": "b79e615c-2056-496d-8892-0e8503ca9837"
      },
      "execution_count": null,
      "outputs": [
        {
          "name": "stdout",
          "output_type": "stream",
          "text": [
            "Digite um número: 1\n",
            "O número é positivo\n",
            "Digite um número: 2\n",
            "O número é positivo\n",
            "Digite um número: -2\n",
            "O número é negativo\n",
            "Digite um número: 0\n"
          ]
        }
      ]
    },
    {
      "cell_type": "markdown",
      "source": [
        "### 3- Faça um programa em Python para ler uma quantidade indeterminada de valores inteiros. Para cada valor fornecido apresentar uma mensagem que indique se o valor fornecido é PAR ou ÍMPAR. O programa será encerrado imediatamente após a leitura de um valor NULO (zero) ou NEGATIVO.\n"
      ],
      "metadata": {
        "id": "TovgYu6FFdJ1"
      }
    },
    {
      "cell_type": "code",
      "source": [
        "num = 1\n",
        "\n",
        "while num > 0 :\n",
        "  num = float(input(\"Digite um número: \"))\n",
        "  if num % 2 == 0 and num > 0:\n",
        "    print(\"O número é par\")\n",
        "  elif num % 2 != 0 and num > 0:\n",
        "    print(\"O número é ímpar\")\n",
        "\n"
      ],
      "metadata": {
        "colab": {
          "base_uri": "https://localhost:8080/"
        },
        "id": "VAQcf3jgFi3t",
        "outputId": "9b2d7d95-4151-4691-b6b9-21646d6b86a7"
      },
      "execution_count": null,
      "outputs": [
        {
          "name": "stdout",
          "output_type": "stream",
          "text": [
            "Digite um número: 1\n",
            "O número é ímpar\n",
            "Digite um número: 2\n",
            "O número é par\n",
            "Digite um número: -1\n"
          ]
        }
      ]
    },
    {
      "cell_type": "markdown",
      "source": [
        "### 4- Sabe-se que não existe divisão por zero, para isso faça um programa que leia dois valores inteiros e escreva o resultado da divisão do primeiro pelo segundo. Se o segundo valor informado for ZERO, deve ser impressa uma mensagem de VALOR INVÁLIDO e uma nova leitura do segundo valor deve ser realizada. Ao final do programa deve ser impressa a seguinte mensagem: VOCÊ DESEJA OUTRO CÁLCULO (S/N). Se a resposta for S o programa deverá retornar ao começo, caso contrário deverá encerrar.\n"
      ],
      "metadata": {
        "id": "JVMVkd1uGA8Q"
      }
    },
    {
      "cell_type": "code",
      "source": [
        "num1 = 0\n",
        "num2 = 0\n",
        "resp = \"S\"\n",
        "\n",
        "while resp == \"S\" or resp == \"s\":\n",
        "  num1 = int(input(\"Digite o primeiro número: \"))\n",
        "  if num1 == 0:\n",
        "    print(\"Valor inválido\")\n",
        "  else:\n",
        "    num2 = int(input(\"Digite o segundo número: \"))\n",
        "    if num2 == 0:\n",
        "      print(\"Valor inválido\")\n",
        "    else:\n",
        "      print(  num1 / num2)\n",
        "      resp = input(\"Deseja fazer outro cálculo? (S/N)\")"
      ],
      "metadata": {
        "colab": {
          "base_uri": "https://localhost:8080/"
        },
        "id": "vdubKOHsGH_v",
        "outputId": "2d281827-1f33-4a50-defd-019dc7b87918"
      },
      "execution_count": null,
      "outputs": [
        {
          "name": "stdout",
          "output_type": "stream",
          "text": [
            "Digite o primeiro número: 10\n",
            "Digite o segundo número: 2\n",
            "5.0\n",
            "Deseja fazer outro cálculo? (S/N)n\n"
          ]
        }
      ]
    },
    {
      "cell_type": "markdown",
      "source": [
        "### Faça um programa em Python que verifique a validade de uma senha fornecida pelo usuário. A senha válida é o número 1234.\n",
        "\n",
        "\n",
        "OBS: Se a senha informada pelo usuário for inválida, a mensagem \"ACESSO NEGADO\" deve ser impressa e repetida a solicitação de uma nova senha até que ela seja válida. Caso contrário deve ser impressa a mensagem \"ACESSO PERMITIDO\" junto com um número que representa quantas vezes a senha foi informada.\n"
      ],
      "metadata": {
        "id": "FEB7hoFXHOBC"
      }
    },
    {
      "cell_type": "code",
      "source": [
        "contador = 0\n",
        "senha = 1234\n",
        "senha_inserida = 0\n",
        "\n",
        "while senha_inserida != senha:\n",
        "  senha_inserida = int(input(\"Digite a senha: \"))\n",
        "  contador += 1\n",
        "  if senha_inserida != 1234:\n",
        "    print(\"Acesso negado\")\n",
        "  if senha_inserida == senha:\n",
        "    print(\"Acesso permitido\")\n",
        "    print(contador)\n",
        "    break"
      ],
      "metadata": {
        "colab": {
          "base_uri": "https://localhost:8080/"
        },
        "id": "FUJYQddfHWMq",
        "outputId": "57fa3040-cd62-4f6f-e56b-958f6b8cf4d4"
      },
      "execution_count": null,
      "outputs": [
        {
          "output_type": "stream",
          "name": "stdout",
          "text": [
            "Digite a senha: 1233\n",
            "Acesso negado\n",
            "Digite a senha: 1234\n",
            "Acesso permitido\n",
            "2\n"
          ]
        }
      ]
    },
    {
      "cell_type": "markdown",
      "source": [
        "### 6- Faça um programa em Python que verifique a validade de uma senha fornecida pelo usuário. A senha válida é o número 1234. Se a senha informada pelo usuário for válida a mensagem \"ACESSO PERMITIDO\" deve ser informada. O usuário não terá acesso ao sistema se errar senha três vezes, neste caso a mensagem \"ACESSO NEGADO\" deve ser informada e a cada vez que o usuário errar a senha, dentro do limite, a mensagem informada será \"SENHA ERRADA, TENTATIVA X DE 3\", sendo o X o número da tentativa."
      ],
      "metadata": {
        "id": "RL456dXOIEzb"
      }
    },
    {
      "cell_type": "code",
      "source": [
        "import time\n",
        "contador = 0\n",
        "senha = 1234\n",
        "senha_inserida = 0\n",
        "\n",
        "\n",
        "while senha_inserida != senha:\n",
        "  senha_inserida = int(input(\"Digite a senha: \"))\n",
        "  contador += 1\n",
        "  if senha_inserida != 1234:\n",
        "    print(\"SENHA ERRADA, TENTATIVA\",  contador, \"DE 3\")\n",
        "    if contador == 3:\n",
        "      print(\"ACESSO NEGADO\")\n",
        "      break\n",
        "  if senha_inserida == senha:\n",
        "    print(\"Acesso permitido\")\n",
        "    break"
      ],
      "metadata": {
        "colab": {
          "base_uri": "https://localhost:8080/"
        },
        "id": "G3hm7NXFIUkD",
        "outputId": "dbd27dd5-d894-4709-d4f2-435804b68a26"
      },
      "execution_count": null,
      "outputs": [
        {
          "output_type": "stream",
          "name": "stdout",
          "text": [
            "Digite a senha: 1235\n",
            "SENHA ERRADA, TENTATIVA 1 DE 3\n",
            "Digite a senha: 1333\n",
            "SENHA ERRADA, TENTATIVA 2 DE 3\n",
            "Digite a senha: 1364\n",
            "SENHA ERRADA, TENTATIVA 3 DE 3\n",
            "ACESSO NEGADO\n"
          ]
        }
      ]
    }
  ]
}