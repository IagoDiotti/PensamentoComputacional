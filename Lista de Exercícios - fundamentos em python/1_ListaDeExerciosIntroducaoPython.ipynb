{
  "nbformat": 4,
  "nbformat_minor": 0,
  "metadata": {
    "colab": {
      "provenance": [],
      "authorship_tag": "ABX9TyPbt8MQvOqiLi9IX2U1o1K2"
    },
    "kernelspec": {
      "name": "python3",
      "display_name": "Python 3"
    },
    "language_info": {
      "name": "python"
    }
  },
  "cells": [
    {
      "cell_type": "markdown",
      "source": [
        "# Exercícios de Aula Comandos de Entrada e Saída em Python"
      ],
      "metadata": {
        "id": "Z8L3dOZA7-CT"
      }
    },
    {
      "cell_type": "markdown",
      "source": [
        "### 1 -- Faça em Python um algoritmo que leia um número inteiro qualquer. O algoritmo deve calcular e escrever o quadrado, a raiz quadrada, e a divisão do quadrado pela raiz quadrada do número lido"
      ],
      "metadata": {
        "id": "r4ndvkU68GbS"
      }
    },
    {
      "cell_type": "code",
      "execution_count": null,
      "metadata": {
        "colab": {
          "base_uri": "https://localhost:8080/"
        },
        "id": "TZGAqHNb7wfr",
        "outputId": "42bce656-ca46-42f9-8b67-4792b36e412e"
      },
      "outputs": [
        {
          "output_type": "stream",
          "name": "stdout",
          "text": [
            "Informe um número inteiro qualquer:4\n",
            "o número escolhido foi 4\n",
            "o quadrado de 4 é 16\n",
            "a raiz quadrada de 4 é 2.0\n",
            "a divisão do quadrado de 4 pela raíz de 4 é 8.0\n"
          ]
        }
      ],
      "source": [
        "# Algoritmo de calculo de quadrado, raiz quadrada e divisão do quadrado pela raíz quadrada\n",
        "\n",
        "# bibliotecas\n",
        "import math\n",
        "\n",
        "# vars\n",
        "n = 0\n",
        "quad = 0\n",
        "raiz = 0.0\n",
        "div_quad_raiz = 0.0\n",
        "\n",
        "# inicia a captura do inteiro\n",
        "n = int(input(\"Informe um número inteiro qualquer:\"))\n",
        "\n",
        "# quadrado de n\n",
        "quad = n ** 2\n",
        "\n",
        "# raiz quadrada de n\n",
        "raiz = math.sqrt(n)\n",
        "\n",
        "# Divisao do quadrado pela raiz\n",
        "div_quad_raiz = quad/raiz\n",
        "\n",
        "# mostrando os resultados\n",
        "\n",
        "print(\"o número escolhido foi\", n)\n",
        "print(\"o quadrado de\", n, \"é\", quad)\n",
        "print(\"a raiz quadrada de\", n, \"é\", raiz)\n",
        "print(\"a divisão do quadrado de\", n, \"pela raíz de\", n, \"é\", div_quad_raiz)\n"
      ]
    },
    {
      "cell_type": "markdown",
      "source": [
        "### 2-- Faça em Python um algoritmo que calcule e escreva o preço final de um computador, sendo fornecido o preço de fábrica. O preço final do computador é calculado com base nos adicionais de: 30 % de imposto e 10 % de revenda sobre o preço de fábrica.\n"
      ],
      "metadata": {
        "id": "xnklXQI_BEaE"
      }
    },
    {
      "cell_type": "code",
      "source": [
        "fab = 0\n",
        "final = 0\n",
        "\n",
        "fab = float(input(\"informe o preço de fábrica do computador:\"))\n",
        "final = fab * 1.4\n",
        "\n",
        "print(\"O preço de fábrica do computador é R$\", fab, \" e o seu preço final é R$\", round(final, 2))"
      ],
      "metadata": {
        "colab": {
          "base_uri": "https://localhost:8080/"
        },
        "id": "cduczN1ABLoM",
        "outputId": "d8604fb5-70ab-4e33-b2be-41fb1853486d"
      },
      "execution_count": null,
      "outputs": [
        {
          "output_type": "stream",
          "name": "stdout",
          "text": [
            "informe o preço de fábrica do computador:1234.78\n",
            "O preço de fábrica do computador é R$ 1234.78  e o seu preço final é R$ 1728.69\n"
          ]
        }
      ]
    },
    {
      "cell_type": "markdown",
      "source": [
        "### 3-- Faça um algoritmo em Python que leia três números inteiros e calcule a sua média. Ao final, o algoritmo deve escrever os números lidos e o resultado da média.\n"
      ],
      "metadata": {
        "id": "tyXS8P6NCdQ1"
      }
    },
    {
      "cell_type": "code",
      "source": [
        "num1 = 0\n",
        "num2 = 0\n",
        "num3 = 0\n",
        "med = 0\n",
        "\n",
        "num1 = int(input(\"Informe o 1° número:\"))\n",
        "num2 = int(input(\"Informe o 2° número:\"))\n",
        "num3 = int(input(\"Informe o 3° número:\"))\n",
        "\n",
        "med = (num1 + num2 + num3) / 3\n",
        "\n",
        "print(\"a média dos números\", num1, \",\", num2, \"e\", num3, \"é:\", med)\n"
      ],
      "metadata": {
        "colab": {
          "base_uri": "https://localhost:8080/"
        },
        "id": "oOzuhmIxClzl",
        "outputId": "dd94e52d-d790-4750-e3e2-233a96f90d00"
      },
      "execution_count": null,
      "outputs": [
        {
          "output_type": "stream",
          "name": "stdout",
          "text": [
            "Informe o 1° número:3\n",
            "Informe o 2° número:7\n",
            "Informe o 3° número:5\n",
            "a média dos números 3 , 7 e 5 é: 5.0\n"
          ]
        }
      ]
    },
    {
      "cell_type": "markdown",
      "source": [
        "### 4-- Fazer um algoritmo em Python que calcule o número de litros de combustível gastos em uma viagem, sabendo-se que o carro faz 12 km com um litro. Deverão ser lidos o tempo gasto na viagem e a velocidade média.\n"
      ],
      "metadata": {
        "id": "uZ0iXIdjDo_5"
      }
    },
    {
      "cell_type": "code",
      "source": [
        "litros = 0\n",
        "dist = 0\n",
        "tempo = 0\n",
        "velo = 0\n",
        "\n",
        "tempo = float(input(\"Qual foi o tempo gasto na viagem em horas?\"))\n",
        "velo = float(input(\"Qual foi a velocidade média da viagem?\"))\n",
        "\n",
        "dist = tempo * velo\n",
        "\n",
        "litros = dist / 12\n",
        "\n",
        "print(\"Nesta viagem, foi gasto\", litros, \"litros de gasolina\")\n"
      ],
      "metadata": {
        "colab": {
          "base_uri": "https://localhost:8080/"
        },
        "id": "b9LroNy6DyUA",
        "outputId": "89ea8d5a-278f-45c2-bb6b-941648568f33"
      },
      "execution_count": null,
      "outputs": [
        {
          "output_type": "stream",
          "name": "stdout",
          "text": [
            "Qual foi o tempo gasto na viagem em horas?1\n",
            "Qual foi a velocidade média da viagem?120\n",
            "Nesta viagem, foi gasto 10.0 litros de gasolina\n"
          ]
        }
      ]
    },
    {
      "cell_type": "markdown",
      "source": [
        "### 5-- Faça em Python um algoritmo que leia dois números inteiros (x e y), e calcule o quociente e o resto da divisão de x por y e escreva os resultados.\n"
      ],
      "metadata": {
        "id": "q-lbYGT6FFjw"
      }
    },
    {
      "cell_type": "code",
      "source": [
        "x = 0\n",
        "y = 0\n",
        "quo = 0\n",
        "res = 0\n",
        "\n",
        "x = int(input(\"Insira um número inteiro:\"))\n",
        "y = int(input(\"Insira um número inteiro:\"))\n",
        "\n",
        "quo = x // y\n",
        "res = x % y\n",
        "\n",
        "\n",
        "print(\"O quociente da divisão de\", x, \"por\", y, \" é\", quo, \" e o resto da divisão é\", res)"
      ],
      "metadata": {
        "colab": {
          "base_uri": "https://localhost:8080/"
        },
        "id": "QFQV4-WGFQw_",
        "outputId": "a68c54b4-a6d6-4687-e2cf-fc6474b0454a"
      },
      "execution_count": null,
      "outputs": [
        {
          "output_type": "stream",
          "name": "stdout",
          "text": [
            "Insira um número inteiro:10\n",
            "Insira um número inteiro:3\n",
            "O quociente da divisão de 10 por 3  é 3  e o resto da divisão é 1\n"
          ]
        }
      ]
    },
    {
      "cell_type": "markdown",
      "source": [
        "### 6-- Escreva em python um algoritmo que leia três números reais (a, b, c), e calcule a média aritmética. Após os cálculos, os resultados deverão ser escritos.\n"
      ],
      "metadata": {
        "id": "_66WstBwGqO8"
      }
    },
    {
      "cell_type": "code",
      "source": [
        "num1 = 0\n",
        "num2 = 0\n",
        "num3 = 0\n",
        "med = 0\n",
        "\n",
        "num1 = float(input(\"Informe o 1° número:\"))\n",
        "num2 = float(input(\"Informe o 2° número:\"))\n",
        "num3 = float(input(\"Informe o 3° número:\"))\n",
        "\n",
        "med = (num1 + num2 + num3) / 3\n",
        "\n",
        "print(\"a média dos números\", num1, \",\", num2, \"e\", num3, \"é:\", round(med, 2))\n"
      ],
      "metadata": {
        "colab": {
          "base_uri": "https://localhost:8080/"
        },
        "id": "VvCCN-8fGux1",
        "outputId": "ec374894-f874-41c3-8dca-d4870aaa2c1d"
      },
      "execution_count": null,
      "outputs": [
        {
          "output_type": "stream",
          "name": "stdout",
          "text": [
            "Informe o 1° número:8\n",
            "Informe o 2° número:5\n",
            "Informe o 3° número:3\n",
            "a média dos números 8.0 , 5.0 e 3.0 é: 5.33\n"
          ]
        }
      ]
    },
    {
      "cell_type": "markdown",
      "source": [
        "### 7--Uma loja de equipamentos de informática resolveu incentivar os seus funcionários a venderem no mês março. Para cada produto vendido, a loja dará uma bonificação de 1%, sobre o salário do funcionário. Desta forma, o funcionário que vender 10 produtos, terá um acréscimo de 10% em seu salário. Faça um algoritmo em Python que leia o código, o nome e o salário fixo do funcionário, além do número de produtos vendidos por ele no mês, e calcule o salário final do funcionário. Por fim, o algoritmo deve escrever o código e o nome do funcionário, juntamente com o seu salário final.\n"
      ],
      "metadata": {
        "id": "LqcKRCWyHEM_"
      }
    },
    {
      "cell_type": "code",
      "source": [
        "\n",
        "nome = 0\n",
        "sal = 0\n",
        "cod = 0\n",
        "ven = 0\n",
        "sal_final = 0\n",
        "\n",
        "nome = str(input(\"Informe o nome do funcionário:\"))\n",
        "cod = str(input(\"informe o código do funcionário:\"))\n",
        "sal = float(input(\"Informe o salário fixo do funcionário:\"))\n",
        "ven = int(input(\"Informe o número de vendas do funcionário:\"))\n",
        "\n",
        "sal_final =  sal + (sal / 100 * ven)\n",
        "\n",
        "print(\"\\nFuncionário:\", nome)\n",
        "print(\"Código:\", cod)\n",
        "print(\"Salário fixo:\", sal)\n",
        "print(\"Produtos vendidos:\", ven)\n",
        "print(\"Salário final:\", sal_final)"
      ],
      "metadata": {
        "colab": {
          "base_uri": "https://localhost:8080/"
        },
        "id": "pWhDxFmmHI-A",
        "outputId": "d097054e-7d13-4720-b2bd-86ebfbfb963f"
      },
      "execution_count": null,
      "outputs": [
        {
          "output_type": "stream",
          "name": "stdout",
          "text": [
            "Informe o nome do funcionário:Iago\n",
            "informe o código do funcionário:ABC123\n",
            "Informe o salário fixo do funcionário:2000\n",
            "Informe o número de vendas do funcionário:10\n",
            "\n",
            "Funcionário: Iago\n",
            "Código: ABC123\n",
            "Salário fixo: 2000.0\n",
            "Produtos vendidos: 10\n",
            "Salário final: 2200.0\n"
          ]
        }
      ]
    },
    {
      "cell_type": "markdown",
      "source": [
        "### 8-- Construa um algoritmo em Python que calcule a quantidade de latas de tintas necessárias e o custo para pintar tanques cilíndricos de combustível, onde são fornecidos a altura e o raio deste cilindro. Sabendo que:\n",
        "\n",
        "###### ● a lata de tinta custa R$ 150,00\n",
        "###### ● cada lata contém 5 litros;\n",
        "######● cada litro de tinta pinta 3 metros quadrados;\n",
        "###### ● a área do total cilindro é dada por área da base + área lateral;\n",
        "###### ● a área da base do cilindro é dada π*raio2\n",
        "###### ● a área da lateral é 2*π*raio*altura.\n",
        "###### ● Lembrando que π (pi) vale 3,14.\n"
      ],
      "metadata": {
        "id": "_bOYLk4457Oo"
      }
    },
    {
      "cell_type": "code",
      "source": [
        "import math\n",
        "\n",
        "latas  = 0\n",
        "custo = 0\n",
        "altura = 0\n",
        "raio = 0\n",
        "area_base = 0\n",
        "area_lateral = 0\n",
        "area_total = 0\n",
        "pi = 3.14\n",
        "preco = 150.0\n",
        "\n",
        "\n",
        "altura = float(input(\"Informe a altura (m) do cilindro :\"))\n",
        "raio = float(input(\"Informe o raio (m) do cilindro:\"))\n",
        "\n",
        "area_base = pi * (raio ** 2)\n",
        "area_lateral = 2 * pi * raio * altura\n",
        "area_total = area_base + area_lateral\n",
        "\n",
        "litros = area_total / 3\n",
        "latas =  math.ceil(litros / 5)\n",
        "custo = latas * preco\n",
        "\n",
        "print(\"Será necessário\", latas, \"latas de tinta para pintar o cilindro\")\n",
        "print(\"O custo para pintar o cilindro é de R$\", custo)\n",
        "\n"
      ],
      "metadata": {
        "colab": {
          "base_uri": "https://localhost:8080/"
        },
        "id": "baUeUWXU6vC_",
        "outputId": "4a77a2f6-d5bc-4e78-b132-a279e899d5f8"
      },
      "execution_count": null,
      "outputs": [
        {
          "output_type": "stream",
          "name": "stdout",
          "text": [
            "Informe a altura do cilindro:5\n",
            "Informe o raio do cilindro:2\n",
            "Será necessário 6 latas de tinta para pintar o cilindro\n",
            "O custo para pintar o cilindro é de R$ 900.0\n"
          ]
        }
      ]
    },
    {
      "cell_type": "markdown",
      "source": [
        "### 9-- Elabore um algoritmo em Python para calcular e escrever o preço final de um computador, sendo fornecido o preço de fábrica. O preço final do computador é calculado com base nos adicionais 45 % de imposto e 28 % de revenda sobre o preço de fábrica."
      ],
      "metadata": {
        "id": "RdRUJrcN_R-E"
      }
    },
    {
      "cell_type": "code",
      "source": [
        "fab = 0\n",
        "final = 0\n",
        "\n",
        "fab = float(input(\"informe o preço de fábrica do computador:\"))\n",
        "final = fab * 1.45 + fab * 0.28\n",
        "\n",
        "print(\"O preço de fábrica do computador é R$\", fab, \" e o seu preço final é R$\", final)\n"
      ],
      "metadata": {
        "colab": {
          "base_uri": "https://localhost:8080/"
        },
        "id": "uoaKOFKb_iRB",
        "outputId": "82550b31-554e-4637-967a-32bc888a563b"
      },
      "execution_count": null,
      "outputs": [
        {
          "output_type": "stream",
          "name": "stdout",
          "text": [
            "informe o preço de fábrica do computador:1000\n",
            "O preço de fábrica do computador é R$ 1000.0  e o seu preço final é R$ 1730.0\n"
          ]
        }
      ]
    },
    {
      "cell_type": "markdown",
      "source": [
        "### 10-- Uma revendedora de carros usados paga aos seus funcionários vendedores, um salário fixo por mês, mais uma comissão para cada carro vendido. Escreva um algoritmo em Python que leia o número do vendedor, o seu salário fixo, o número de carros por ele vendidos, e o valor que recebe por carro vendido, e calcule o salário mensal do vendedor, escrevendo-o juntamente com o seu número de identificação.\n"
      ],
      "metadata": {
        "id": "t_fMY_AtAWAv"
      }
    },
    {
      "cell_type": "code",
      "source": [
        "numero_vendedor = 0\n",
        "salario_fixo = 0.0\n",
        "carros_vendidos = 0\n",
        "comissao_por_carro = 0.0\n",
        "salario_total = 0.0\n",
        "\n",
        "\n",
        "numero_vendedor = int(input(\"Informe o número do vendedor: \"))\n",
        "salario_fixo = float(input(\"Informe o salário fixo do vendedor: \"))\n",
        "carros_vendidos = int(input(\"Informe o número de carros vendidos: \"))\n",
        "comissao_por_carro = float(input(\"Informe o valor da comissão por carro vendido: \"))\n",
        "\n",
        "\n",
        "salario_total = salario_fixo + (carros_vendidos * comissao_por_carro)\n",
        "\n",
        "\n",
        "print(\"\\nNúmero do vendedor:\", numero_vendedor)\n",
        "print(\"Salário total do vendedor: R$\", round(salario_total, 2))\n"
      ],
      "metadata": {
        "colab": {
          "base_uri": "https://localhost:8080/"
        },
        "id": "PBXHJuP5BJXq",
        "outputId": "79c1135e-6d36-4cfc-8057-0352c48928b7"
      },
      "execution_count": null,
      "outputs": [
        {
          "output_type": "stream",
          "name": "stdout",
          "text": [
            "Informe o número do vendedor: 7343\n",
            "Informe o salário fixo do vendedor: 2000\n",
            "Informe o número de carros vendidos: 10\n",
            "Informe o valor da comissão por carro vendido: 300\n",
            "\n",
            "Número do vendedor: 7343\n",
            "Salário total do vendedor: R$ 5000.0\n"
          ]
        }
      ]
    },
    {
      "cell_type": "markdown",
      "source": [
        "### 11-- Escrever um algoritmo em Python que leia os dados referentes ao funcionário, calcule e escreva o salário líquido do funcionário da empresa. Obs.: Além do salário líquido, escreva o número de identificação e o nome do funcionário.\n"
      ],
      "metadata": {
        "id": "MDuNJsjLBfed"
      }
    },
    {
      "cell_type": "code",
      "source": [
        "'''\n",
        "dados Relativos ao Sistema de Pagamentos\n",
        "Valor da Hora Normal = R$ 8,00\n",
        "Valor da Hora Extra = R$ 9,50\n",
        "Valor do Acréscimo por Dependente = RS 2,50\n",
        "Relativos a cada Funcionário\n",
        "Número de Identificação\n",
        "Nome\n",
        "Número de horas normais trabalhadas\n",
        "Número de horas extras trabalhadas\n",
        "Número de dependentes\n",
        "O cálculo do salário de cada funcionário é feito em 3 etapas:\n",
        "Etapa 1 : Cálculo do Salário Bruto\n",
        "SALARIO BRUTO = Valor Total de Horas Normais + Valor Total de Horas Extras + Valor Total de Dependentes\n",
        "Etapa 2 : Descontos\n",
        "Todos os funcionários são isentos de imposto de renda, e descontam 5% do salário bruto para o INSS. Etapa 3 : Salário Líquido\n",
        "'''\n",
        "\n",
        "VALOR_HORA_NORMAL = 8.00\n",
        "VALOR_HORA_EXTRA = 9.50\n",
        "VALOR_ACRESCIMO_DEPENDENTE = 2.50\n",
        "DESCONTO_INSS = 0.05\n",
        "\n",
        "\n",
        "num_identificacao = int(input(\"Número de Identificação: \"))\n",
        "nome = input(\"Nome do Funcionário: \")\n",
        "horas_normais = float(input(\"Número de horas normais trabalhadas: \"))\n",
        "horas_extras = float(input(\"Número de horas extras trabalhadas: \"))\n",
        "num_dependentes = int(input(\"Número de dependentes: \"))\n",
        "\n",
        "\n",
        "valor_horas_normais = horas_normais * VALOR_HORA_NORMAL\n",
        "valor_horas_extras = horas_extras * VALOR_HORA_EXTRA\n",
        "valor_dependentes = num_dependentes * VALOR_ACRESCIMO_DEPENDENTE\n",
        "\n",
        "salario_bruto = valor_horas_normais + valor_horas_extras + valor_dependentes\n",
        "\n",
        "\n",
        "desconto_inss = salario_bruto * DESCONTO_INSS\n",
        "\n",
        "salario_liquido = salario_bruto - desconto_inss\n",
        "\n",
        "\n",
        "print(\"\\n======= FOLHA DE PAGAMENTO ===========\")\n",
        "print(\"Número de Identificação:\", num_identificacao)\n",
        "print(\"Nome do Funcionário:\", nome)\n",
        "print(\"Salário Bruto: R$\", round(salario_bruto, 2))\n",
        "print(\"Desconto INSS (5%): R$\", round(desconto_inss, 2))\n",
        "print(\"Salário Líquido: R$\", round(salario_liquido, 2))\n",
        "print(\"========================================\")\n"
      ],
      "metadata": {
        "colab": {
          "base_uri": "https://localhost:8080/"
        },
        "id": "alMmUtYNBwmA",
        "outputId": "84dd6e0e-5f3e-44ec-8c20-c0529e42de33"
      },
      "execution_count": null,
      "outputs": [
        {
          "output_type": "stream",
          "name": "stdout",
          "text": [
            "Número de Identificação: 13141243\n",
            "Nome do Funcionário: Iago Diotti\n",
            "Número de horas normais trabalhadas: 180\n",
            "Número de horas extras trabalhadas: 15\n",
            "Número de dependentes: 2\n",
            "\n",
            "======= FOLHA DE PAGAMENTO ===========\n",
            "Número de Identificação: 13141243\n",
            "Nome do Funcionário: Iago Diotti\n",
            "Salário Bruto: R$ 1587.5\n",
            "Desconto INSS (5%): R$ 79.38\n",
            "Salário Líquido: R$ 1508.12\n",
            "========================================\n"
          ]
        }
      ]
    }
  ]
}