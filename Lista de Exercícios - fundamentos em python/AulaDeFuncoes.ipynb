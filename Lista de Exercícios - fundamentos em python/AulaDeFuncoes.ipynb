{
  "nbformat": 4,
  "nbformat_minor": 0,
  "metadata": {
    "colab": {
      "provenance": [],
      "authorship_tag": "ABX9TyN19ifDrY3mfOFUFfOG/VIr"
    },
    "kernelspec": {
      "name": "python3",
      "display_name": "Python 3"
    },
    "language_info": {
      "name": "python"
    }
  },
  "cells": [
    {
      "cell_type": "markdown",
      "source": [
        "# Calculadora simples em python\n",
        "\n",
        "- +, -, *, /"
      ],
      "metadata": {
        "id": "QeJOK6-TmOsC"
      }
    },
    {
      "cell_type": "code",
      "execution_count": 33,
      "metadata": {
        "id": "QMu1N60yluJv"
      },
      "outputs": [],
      "source": [
        "import math\n",
        "\n",
        "def soma(a, b):\n",
        "  return a + b\n",
        "\n",
        "def sub (a, b):\n",
        "  return a - b\n",
        "\n",
        "def mult(a, b):\n",
        "  return a * b\n",
        "\n",
        "def div(a, b):\n",
        "  return a / b\n",
        "\n",
        "def pot(a, b):\n",
        "  return a ** b\n",
        "\n",
        "def raiz(a, b):\n",
        "  return b ** (1/a)\n",
        "\n",
        "def div_int(a, b):\n",
        "  return a // b\n",
        "\n",
        "def mod(a, b):\n",
        "  return a % b"
      ]
    },
    {
      "cell_type": "code",
      "source": [
        "op_string =    \"Digite + para soma\"\n",
        "op_string += \"\\n       - para subtração\"\n",
        "op_string += \"\\n       * para multiplicação\"\n",
        "op_string += \"\\n       / para divisão\"\n",
        "op_string += \"\\n       ** para a^b\"\n",
        "op_string += \"\\n       // para a raiz b\"\n",
        "op_string += \"\\n       DIV para a^b\"\n",
        "op_string += \"\\n       MOD para a raiz b\"\n",
        "op_string += \"\\n       s para sair\"\n",
        "\n",
        "while True:\n",
        "\n",
        "  operacao = input(op_string)\n",
        "  if (operacao == \"s\"):\n",
        "    break\n",
        "\n",
        "  a = float(input(\"Digite o primeiro valor:\"))\n",
        "  b = float(input(\"Digite o segundo valor:\"))\n",
        "\n",
        "\n",
        "\n",
        "  if operacao == \"+\":\n",
        "    print(\"O resultado da soma de\", a, \"+\", b, \"é:\", soma(a, b))\n",
        "  elif operacao == \"-\":\n",
        "    print(\"O resultado da subtração de\", a, \"-\", b, \"é:\", sub(a, b))\n",
        "  elif operacao == \"*\":\n",
        "    print(\"O resultado da multiplicação de\", a, \"X\", b, \"é:\", mult(a, b))\n",
        "  elif operacao == \"/\":\n",
        "    if b == 0:\n",
        "      print(\"Não é possível dividir por 0\")\n",
        "    else:\n",
        "      print(\"O resultado da divisão de\", a, \"/\", b, \"é:\", div(a, b))\n",
        "  elif operacao == \"**\":\n",
        "    print(\"O resultado de\", a, \"elevado a\", b, \"é:\", pot(a, b))\n",
        "  elif operacao == \"//\":\n",
        "    print(\"O resultado da raiz de\", b, \"por\", a, \"é:\", raiz(a, b))\n",
        "  elif operacao == \"DIV\":\n",
        "    print(\"O resultado da divisão inteira de\", a, \"/\", b, \"é:\", div_int(a, b))\n",
        "  elif operacao == \"MOD\":\n",
        "    print(\"O resultado do módulo de\", a, \"/\", b, \"é:\", mod(a, b))\n",
        "  else:\n",
        "    print(\"Comando inválido\")\n",
        "\n",
        "\n",
        "\n",
        "\n",
        ""
      ],
      "metadata": {
        "colab": {
          "base_uri": "https://localhost:8080/"
        },
        "id": "b4a3_ku7m6st",
        "outputId": "71517a7a-ff2e-4532-ccaa-4075516d97be"
      },
      "execution_count": 36,
      "outputs": [
        {
          "name": "stdout",
          "output_type": "stream",
          "text": [
            "Digite + para soma\n",
            "       - para subtração\n",
            "       * para multiplicação\n",
            "       / para divisão\n",
            "       ** para a^b\n",
            "       // para a raiz b\n",
            "       DIV para a^b\n",
            "       MOD para a raiz b\n",
            "       s para sair//\n",
            "Digite o primeiro valor:4\n",
            "Digite o segundo valor:16\n",
            "O resultado da raiz de 16.0 por 4.0 é: 2.0\n",
            "Digite + para soma\n",
            "       - para subtração\n",
            "       * para multiplicação\n",
            "       / para divisão\n",
            "       ** para a^b\n",
            "       // para a raiz b\n",
            "       DIV para a^b\n",
            "       MOD para a raiz b\n",
            "       s para sairs\n"
          ]
        }
      ]
    },
    {
      "cell_type": "code",
      "source": [],
      "metadata": {
        "id": "lZSG4DXr8dqI"
      },
      "execution_count": null,
      "outputs": []
    }
  ]
}