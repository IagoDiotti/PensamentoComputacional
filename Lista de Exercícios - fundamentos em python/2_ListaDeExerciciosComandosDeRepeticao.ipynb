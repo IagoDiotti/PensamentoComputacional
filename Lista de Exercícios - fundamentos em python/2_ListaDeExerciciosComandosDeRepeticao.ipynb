{
  "nbformat": 4,
  "nbformat_minor": 0,
  "metadata": {
    "colab": {
      "provenance": [],
      "mount_file_id": "1NbROEruAbi7f01trghhuDDu2zsOzxkO6",
      "authorship_tag": "ABX9TyNhHPkwaraKfR6F+F/4Z9YN"
    },
    "kernelspec": {
      "name": "python3",
      "display_name": "Python 3"
    },
    "language_info": {
      "name": "python"
    }
  },
  "cells": [
    {
      "cell_type": "markdown",
      "source": [
        "# Exercícios de Aula - Comandos de repetição"
      ],
      "metadata": {
        "id": "Vak5L9g4i17_"
      }
    },
    {
      "cell_type": "markdown",
      "source": [
        "### 1-- transcreva o algoritmo a seguir para python:\n",
        "\n"
      ],
      "metadata": {
        "id": "elDhMBPSi-gd"
      }
    },
    {
      "cell_type": "code",
      "execution_count": null,
      "metadata": {
        "colab": {
          "base_uri": "https://localhost:8080/"
        },
        "id": "pDOtjSEIizN1",
        "outputId": "57f1d6b7-4ce5-4853-c3ca-05e78d17f965"
      },
      "outputs": [
        {
          "output_type": "stream",
          "name": "stdout",
          "text": [
            "1  x 9 = 9\n",
            "2  x 9 = 18\n",
            "3  x 9 = 27\n",
            "4  x 9 = 36\n",
            "5  x 9 = 45\n",
            "6  x 9 = 54\n",
            "7  x 9 = 63\n",
            "8  x 9 = 72\n",
            "9  x 9 = 81\n",
            "10  x 9 = 90\n"
          ]
        }
      ],
      "source": [
        "'''\n",
        "ALGORITMO TABUADA_9;\n",
        "VAR\n",
        "    N, X, R : INTEIRO;\n",
        "INICIO\n",
        "    PARA X DE 1 ATE 10 FACA\n",
        "      INICIO\n",
        "      R ← 9 * X;\n",
        "      ESCREVER ( X, ‘ x 9 = ’, R);\n",
        "      FIM;\n",
        "    FIM_PARA;\n",
        "FIM.\n",
        "'''\n",
        "\n",
        "# ALGORITMO TABUADA_9;\n",
        "\n",
        "#VAR\n",
        "n = 0\n",
        "x = 0\n",
        "r = 0\n",
        "\n",
        "#INICIO\n",
        "for x in range(11):\n",
        "  r = x * 9\n",
        "  if r > 0:\n",
        "    print(x, \" x 9 =\", r)\n",
        "\n"
      ]
    },
    {
      "cell_type": "markdown",
      "source": [
        "### 2--  Faça um programa em Python que mostre todos os números inteiros ímpares situados na faixa de 1000 a 1500.\n"
      ],
      "metadata": {
        "id": "Aen5Gk5-lGXi"
      }
    },
    {
      "cell_type": "code",
      "source": [
        "x = 0\n",
        "y = 0\n",
        "\n",
        "for x in range(1000, 1501):\n",
        "  if x % 2 != 0:\n",
        "    print(x)"
      ],
      "metadata": {
        "colab": {
          "base_uri": "https://localhost:8080/"
        },
        "id": "MImylWYqlLgx",
        "outputId": "d39cd514-ce12-44fc-b606-5ea2570d3fcc"
      },
      "execution_count": null,
      "outputs": [
        {
          "output_type": "stream",
          "name": "stdout",
          "text": [
            "1001\n",
            "1003\n",
            "1005\n",
            "1007\n",
            "1009\n",
            "1011\n",
            "1013\n",
            "1015\n",
            "1017\n",
            "1019\n",
            "1021\n",
            "1023\n",
            "1025\n",
            "1027\n",
            "1029\n",
            "1031\n",
            "1033\n",
            "1035\n",
            "1037\n",
            "1039\n",
            "1041\n",
            "1043\n",
            "1045\n",
            "1047\n",
            "1049\n",
            "1051\n",
            "1053\n",
            "1055\n",
            "1057\n",
            "1059\n",
            "1061\n",
            "1063\n",
            "1065\n",
            "1067\n",
            "1069\n",
            "1071\n",
            "1073\n",
            "1075\n",
            "1077\n",
            "1079\n",
            "1081\n",
            "1083\n",
            "1085\n",
            "1087\n",
            "1089\n",
            "1091\n",
            "1093\n",
            "1095\n",
            "1097\n",
            "1099\n",
            "1101\n",
            "1103\n",
            "1105\n",
            "1107\n",
            "1109\n",
            "1111\n",
            "1113\n",
            "1115\n",
            "1117\n",
            "1119\n",
            "1121\n",
            "1123\n",
            "1125\n",
            "1127\n",
            "1129\n",
            "1131\n",
            "1133\n",
            "1135\n",
            "1137\n",
            "1139\n",
            "1141\n",
            "1143\n",
            "1145\n",
            "1147\n",
            "1149\n",
            "1151\n",
            "1153\n",
            "1155\n",
            "1157\n",
            "1159\n",
            "1161\n",
            "1163\n",
            "1165\n",
            "1167\n",
            "1169\n",
            "1171\n",
            "1173\n",
            "1175\n",
            "1177\n",
            "1179\n",
            "1181\n",
            "1183\n",
            "1185\n",
            "1187\n",
            "1189\n",
            "1191\n",
            "1193\n",
            "1195\n",
            "1197\n",
            "1199\n",
            "1201\n",
            "1203\n",
            "1205\n",
            "1207\n",
            "1209\n",
            "1211\n",
            "1213\n",
            "1215\n",
            "1217\n",
            "1219\n",
            "1221\n",
            "1223\n",
            "1225\n",
            "1227\n",
            "1229\n",
            "1231\n",
            "1233\n",
            "1235\n",
            "1237\n",
            "1239\n",
            "1241\n",
            "1243\n",
            "1245\n",
            "1247\n",
            "1249\n",
            "1251\n",
            "1253\n",
            "1255\n",
            "1257\n",
            "1259\n",
            "1261\n",
            "1263\n",
            "1265\n",
            "1267\n",
            "1269\n",
            "1271\n",
            "1273\n",
            "1275\n",
            "1277\n",
            "1279\n",
            "1281\n",
            "1283\n",
            "1285\n",
            "1287\n",
            "1289\n",
            "1291\n",
            "1293\n",
            "1295\n",
            "1297\n",
            "1299\n",
            "1301\n",
            "1303\n",
            "1305\n",
            "1307\n",
            "1309\n",
            "1311\n",
            "1313\n",
            "1315\n",
            "1317\n",
            "1319\n",
            "1321\n",
            "1323\n",
            "1325\n",
            "1327\n",
            "1329\n",
            "1331\n",
            "1333\n",
            "1335\n",
            "1337\n",
            "1339\n",
            "1341\n",
            "1343\n",
            "1345\n",
            "1347\n",
            "1349\n",
            "1351\n",
            "1353\n",
            "1355\n",
            "1357\n",
            "1359\n",
            "1361\n",
            "1363\n",
            "1365\n",
            "1367\n",
            "1369\n",
            "1371\n",
            "1373\n",
            "1375\n",
            "1377\n",
            "1379\n",
            "1381\n",
            "1383\n",
            "1385\n",
            "1387\n",
            "1389\n",
            "1391\n",
            "1393\n",
            "1395\n",
            "1397\n",
            "1399\n",
            "1401\n",
            "1403\n",
            "1405\n",
            "1407\n",
            "1409\n",
            "1411\n",
            "1413\n",
            "1415\n",
            "1417\n",
            "1419\n",
            "1421\n",
            "1423\n",
            "1425\n",
            "1427\n",
            "1429\n",
            "1431\n",
            "1433\n",
            "1435\n",
            "1437\n",
            "1439\n",
            "1441\n",
            "1443\n",
            "1445\n",
            "1447\n",
            "1449\n",
            "1451\n",
            "1453\n",
            "1455\n",
            "1457\n",
            "1459\n",
            "1461\n",
            "1463\n",
            "1465\n",
            "1467\n",
            "1469\n",
            "1471\n",
            "1473\n",
            "1475\n",
            "1477\n",
            "1479\n",
            "1481\n",
            "1483\n",
            "1485\n",
            "1487\n",
            "1489\n",
            "1491\n",
            "1493\n",
            "1495\n",
            "1497\n",
            "1499\n"
          ]
        }
      ]
    },
    {
      "cell_type": "markdown",
      "source": [
        "### 3--  Elabore um programa em Python que calcule e escreva a soma de 10 números lidos."
      ],
      "metadata": {
        "id": "i65r1Xwbl52C"
      }
    },
    {
      "cell_type": "code",
      "source": [
        "valor = 0\n",
        "\n",
        "for x in range(10):\n",
        "  valor +=  int(input(\"Digite um valor: \"))\n",
        "  print(valor)\n"
      ],
      "metadata": {
        "colab": {
          "base_uri": "https://localhost:8080/"
        },
        "id": "n0QdwpWul_y5",
        "outputId": "b355caa2-c0b3-49d2-dbfc-51ff9c2b9cfe"
      },
      "execution_count": null,
      "outputs": [
        {
          "output_type": "stream",
          "name": "stdout",
          "text": [
            "Digite um valor: 1\n",
            "1\n",
            "Digite um valor: 1\n",
            "2\n",
            "Digite um valor: 1\n",
            "3\n",
            "Digite um valor: 1\n",
            "4\n",
            "Digite um valor: 1\n",
            "5\n",
            "Digite um valor: 1\n",
            "6\n",
            "Digite um valor: 1\n",
            "7\n",
            "Digite um valor: 1\n",
            "8\n",
            "Digite um valor: 1\n",
            "9\n",
            "Digite um valor: 1\n",
            "10\n"
          ]
        }
      ]
    },
    {
      "cell_type": "markdown",
      "source": [
        "### 4-- Faça um programa em Python que leia a nota de 10 alunos de uma turma. Ao final, deve ser escrita a média geral da turma.\n"
      ],
      "metadata": {
        "id": "elQxnbY9mxTU"
      }
    },
    {
      "cell_type": "code",
      "source": [
        "nota = 0\n",
        "media =0\n",
        "x = 0\n",
        "\n",
        "\n",
        "for x in range(10):\n",
        "  nota = float(input(\"Digite a nota do aluno:\"))\n",
        "  media += nota\n",
        "media = media / 10\n",
        "print(\"A média da turma é: \", media)"
      ],
      "metadata": {
        "colab": {
          "base_uri": "https://localhost:8080/"
        },
        "id": "ZJufI3QAm65M",
        "outputId": "0298e297-6f84-451e-d49c-633deb60f4b1"
      },
      "execution_count": null,
      "outputs": [
        {
          "output_type": "stream",
          "name": "stdout",
          "text": [
            "Digite a nota do aluno:7\n",
            "Digite a nota do aluno:8\n",
            "Digite a nota do aluno:9\n",
            "Digite a nota do aluno:10\n",
            "Digite a nota do aluno:5\n",
            "Digite a nota do aluno:7\n",
            "Digite a nota do aluno:9\n",
            "Digite a nota do aluno:8\n",
            "Digite a nota do aluno:6\n",
            "Digite a nota do aluno:3\n",
            "A média da turma é:  7.2\n"
          ]
        }
      ]
    },
    {
      "cell_type": "markdown",
      "source": [
        "### 5-- Faça um programa em Python que leia 5 números. Para cada número fornecido, escreva se ele é NULO, NEGATIVO ou POSITIVO.\n"
      ],
      "metadata": {
        "id": "2nFzuPswofDs"
      }
    },
    {
      "cell_type": "code",
      "source": [
        "num = 0\n",
        "\n",
        "for x in range(5):\n",
        "  num = int(input(\"Digite um número: \"))\n",
        "  if num > 0:\n",
        "    print(\"Positivo\")\n",
        "  elif num < 0:\n",
        "    print(\"Negativo\")\n",
        "  else:\n",
        "    print(\"Nulo\")"
      ],
      "metadata": {
        "colab": {
          "base_uri": "https://localhost:8080/"
        },
        "id": "R8iwKk7zokUM",
        "outputId": "863421d6-0a7e-41a4-f022-e0833b1b704f"
      },
      "execution_count": null,
      "outputs": [
        {
          "output_type": "stream",
          "name": "stdout",
          "text": [
            "Digite um número: 5\n",
            "Positivo\n",
            "Digite um número: -6\n",
            "Negativo\n",
            "Digite um número: 0\n",
            "Nulo\n",
            "Digite um número: -3\n",
            "Negativo\n",
            "Digite um número: 2\n",
            "Positivo\n"
          ]
        }
      ]
    },
    {
      "cell_type": "markdown",
      "source": [
        "### 6-- Ler dois valores inteiros e escrever os números em sequência do menor até maior valor."
      ],
      "metadata": {
        "id": "LWWXMVRAowPD"
      }
    },
    {
      "cell_type": "code",
      "source": [
        "num1 = 0\n",
        "num2 = 0\n",
        "\n",
        "num1 = int(input(\"Digite o primeiro número: \"))\n",
        "num2 = int(input(\"Digite o segundo número: \"))\n",
        "\n",
        "if num1 < num2:\n",
        "  while ( num1 <= num2):\n",
        "    print(num1)\n",
        "    num1 += 1\n",
        "else:\n",
        "  while ( num2 <= num1):\n",
        "    print(num2)\n",
        "    num2 += 1\n",
        "\n"
      ],
      "metadata": {
        "colab": {
          "base_uri": "https://localhost:8080/"
        },
        "id": "_Z8Tr1jno3Zb",
        "outputId": "5b15028a-fba7-4075-a273-a948b1408c56"
      },
      "execution_count": null,
      "outputs": [
        {
          "output_type": "stream",
          "name": "stdout",
          "text": [
            "Digite o primeiro número: 5\n",
            "Digite o segundo número: 2\n",
            "2\n",
            "3\n",
            "4\n",
            "5\n"
          ]
        }
      ]
    },
    {
      "cell_type": "markdown",
      "source": [
        "### 7--  Faça um programa em Python que escreva os números pares entre 100 e 200.\n"
      ],
      "metadata": {
        "id": "nLdb7vYMp7wS"
      }
    },
    {
      "cell_type": "code",
      "source": [
        "for x in range(100, 201):\n",
        "  if x % 2 == 0:\n",
        "    print(x)\n"
      ],
      "metadata": {
        "colab": {
          "base_uri": "https://localhost:8080/"
        },
        "id": "8pBSrRxJqHbq",
        "outputId": "d9e50e5c-e4b7-466a-c677-e3e88940a3d7"
      },
      "execution_count": null,
      "outputs": [
        {
          "output_type": "stream",
          "name": "stdout",
          "text": [
            "100\n",
            "102\n",
            "104\n",
            "106\n",
            "108\n",
            "110\n",
            "112\n",
            "114\n",
            "116\n",
            "118\n",
            "120\n",
            "122\n",
            "124\n",
            "126\n",
            "128\n",
            "130\n",
            "132\n",
            "134\n",
            "136\n",
            "138\n",
            "140\n",
            "142\n",
            "144\n",
            "146\n",
            "148\n",
            "150\n",
            "152\n",
            "154\n",
            "156\n",
            "158\n",
            "160\n",
            "162\n",
            "164\n",
            "166\n",
            "168\n",
            "170\n",
            "172\n",
            "174\n",
            "176\n",
            "178\n",
            "180\n",
            "182\n",
            "184\n",
            "186\n",
            "188\n",
            "190\n",
            "192\n",
            "194\n",
            "196\n",
            "198\n",
            "200\n"
          ]
        }
      ]
    },
    {
      "cell_type": "markdown",
      "source": [
        "### 8-- Escrever um programa em Python que leia um valor para n, inteiro e positivo, e escreva a tabuada de n. Com os respectivos valores.\n"
      ],
      "metadata": {
        "id": "CuKOwxeJqO0J"
      }
    },
    {
      "cell_type": "code",
      "source": [
        "n = 0\n",
        "x = 0\n",
        "r = 0\n",
        "\n",
        "n = int(input(\"Digite um número: \"))\n",
        "for x in range(1, 11):\n",
        "  r = x * n\n",
        "  print(n, \"x\", x, \"=\", r)\n"
      ],
      "metadata": {
        "colab": {
          "base_uri": "https://localhost:8080/"
        },
        "id": "AFG8lDeRqT2Z",
        "outputId": "fb10f24a-a37e-49b3-dcac-e92b6b60c39e"
      },
      "execution_count": null,
      "outputs": [
        {
          "output_type": "stream",
          "name": "stdout",
          "text": [
            "Digite um número: 5\n",
            "5 x 1 = 5\n",
            "5 x 2 = 10\n",
            "5 x 3 = 15\n",
            "5 x 4 = 20\n",
            "5 x 5 = 25\n",
            "5 x 6 = 30\n",
            "5 x 7 = 35\n",
            "5 x 8 = 40\n",
            "5 x 9 = 45\n",
            "5 x 10 = 50\n"
          ]
        }
      ]
    },
    {
      "cell_type": "markdown",
      "source": [
        "### 9-- Escrever um programa em Python que gera os números de 1000 a 1999 e escreve aqueles que divididos por 11 dão um resto igual a 5.\n"
      ],
      "metadata": {
        "id": "XJ6atjZnrIJp"
      }
    },
    {
      "cell_type": "code",
      "source": [
        "for x in range(1000, 2000):\n",
        "  if x % 11 == 5:\n",
        "    print(x)"
      ],
      "metadata": {
        "colab": {
          "base_uri": "https://localhost:8080/"
        },
        "id": "tMIx45elrOLA",
        "outputId": "70660dbd-224f-43ff-a0c7-76e8322c22cb"
      },
      "execution_count": null,
      "outputs": [
        {
          "output_type": "stream",
          "name": "stdout",
          "text": [
            "1006\n",
            "1017\n",
            "1028\n",
            "1039\n",
            "1050\n",
            "1061\n",
            "1072\n",
            "1083\n",
            "1094\n",
            "1105\n",
            "1116\n",
            "1127\n",
            "1138\n",
            "1149\n",
            "1160\n",
            "1171\n",
            "1182\n",
            "1193\n",
            "1204\n",
            "1215\n",
            "1226\n",
            "1237\n",
            "1248\n",
            "1259\n",
            "1270\n",
            "1281\n",
            "1292\n",
            "1303\n",
            "1314\n",
            "1325\n",
            "1336\n",
            "1347\n",
            "1358\n",
            "1369\n",
            "1380\n",
            "1391\n",
            "1402\n",
            "1413\n",
            "1424\n",
            "1435\n",
            "1446\n",
            "1457\n",
            "1468\n",
            "1479\n",
            "1490\n",
            "1501\n",
            "1512\n",
            "1523\n",
            "1534\n",
            "1545\n",
            "1556\n",
            "1567\n",
            "1578\n",
            "1589\n",
            "1600\n",
            "1611\n",
            "1622\n",
            "1633\n",
            "1644\n",
            "1655\n",
            "1666\n",
            "1677\n",
            "1688\n",
            "1699\n",
            "1710\n",
            "1721\n",
            "1732\n",
            "1743\n",
            "1754\n",
            "1765\n",
            "1776\n",
            "1787\n",
            "1798\n",
            "1809\n",
            "1820\n",
            "1831\n",
            "1842\n",
            "1853\n",
            "1864\n",
            "1875\n",
            "1886\n",
            "1897\n",
            "1908\n",
            "1919\n",
            "1930\n",
            "1941\n",
            "1952\n",
            "1963\n",
            "1974\n",
            "1985\n",
            "1996\n"
          ]
        }
      ]
    },
    {
      "cell_type": "markdown",
      "source": [
        "### 10-- Faça um programa em Python que leia um número qualquer (N), e realize a soma dos números de 1 até N. Ao final, deve-se escrever o resultado.\n"
      ],
      "metadata": {
        "id": "BTC3IjjOre8o"
      }
    },
    {
      "cell_type": "code",
      "source": [
        "num1 = 0\n",
        "\n",
        "num1 = int(input(\"Digite um número: \"))\n",
        "soma = 0\n",
        "for x in range(1, num1 + 1):\n",
        "  soma += x\n",
        "print(soma)"
      ],
      "metadata": {
        "colab": {
          "base_uri": "https://localhost:8080/"
        },
        "id": "GfFlA1EUrj0A",
        "outputId": "43e51f12-334d-422f-e18d-bacc44a54433"
      },
      "execution_count": null,
      "outputs": [
        {
          "output_type": "stream",
          "name": "stdout",
          "text": [
            "Digite um número: 3\n",
            "6\n"
          ]
        }
      ]
    },
    {
      "cell_type": "markdown",
      "source": [
        "### 11-- Faça um programa em Python para ler 10 valores inteiros. Para cada valor fornecido escreva uma mensagem que indica se cada valor fornecido é PAR ou ÍMPAR.\n"
      ],
      "metadata": {
        "id": "46iIP_0ysBMg"
      }
    },
    {
      "cell_type": "code",
      "source": [
        "num = 0\n",
        "\n",
        "for x in range (10):\n",
        "  num = int(input(\"Digite um número: \"))\n",
        "  if num % 2 == 0:\n",
        "    print(\"Par\")\n",
        "  else:\n",
        "    print(\"impar\")"
      ],
      "metadata": {
        "colab": {
          "base_uri": "https://localhost:8080/"
        },
        "id": "6bIxq2hisIQo",
        "outputId": "1473fc37-535f-4253-dd74-510c11714652"
      },
      "execution_count": null,
      "outputs": [
        {
          "output_type": "stream",
          "name": "stdout",
          "text": [
            "Digite um número: 5\n",
            "impar\n",
            "Digite um número: 1\n",
            "impar\n",
            "Digite um número: 2\n",
            "Par\n",
            "Digite um número: 3\n",
            "impar\n",
            "Digite um número: 5\n",
            "impar\n",
            "Digite um número: 6\n",
            "Par\n",
            "Digite um número: 4\n",
            "Par\n",
            "Digite um número: 8\n",
            "Par\n",
            "Digite um número: 20\n",
            "Par\n",
            "Digite um número: 10\n",
            "Par\n"
          ]
        }
      ]
    },
    {
      "cell_type": "markdown",
      "source": [
        "### 12--  Faça um programa em Python que leia a idade de 10 alunos, calcule e escreva a média de idade destes.\n"
      ],
      "metadata": {
        "id": "ax2HY4CKsqtX"
      }
    },
    {
      "cell_type": "code",
      "source": [
        "idade = 0\n",
        "media = 0\n",
        "\n",
        "for x in range(10):\n",
        "  idade = int(input(\"Digite a idade do aluno: \"))\n",
        "  media += idade\n",
        "media = media / 10\n",
        "print(\"A média da turma é: \", media)"
      ],
      "metadata": {
        "colab": {
          "base_uri": "https://localhost:8080/"
        },
        "id": "9skNk75psv8H",
        "outputId": "ae062cd3-fbd5-4c18-8e3c-c82cf3fdf4ea"
      },
      "execution_count": null,
      "outputs": [
        {
          "output_type": "stream",
          "name": "stdout",
          "text": [
            "Digite a idade do aluno: 8\n",
            "Digite a idade do aluno: 9\n",
            "Digite a idade do aluno: 5\n",
            "Digite a idade do aluno: 6\n",
            "Digite a idade do aluno: 1\n",
            "Digite a idade do aluno: 10\n",
            "Digite a idade do aluno: 20\n",
            "Digite a idade do aluno: 32\n",
            "Digite a idade do aluno: 52\n",
            "Digite a idade do aluno: 10\n",
            "A média da turma é:  15.3\n"
          ]
        }
      ]
    },
    {
      "cell_type": "markdown",
      "source": [
        "### 13-- Faça um algoritmo em Python que leia dois valores inteiros e escreva se eles estão em ordem crescente, decrescente ou são iguais, após isso escreva todos os valores do menor ao maior."
      ],
      "metadata": {
        "id": "AJrzJzvds8Nm"
      }
    },
    {
      "cell_type": "code",
      "source": [
        "num1 = 0\n",
        "num2 = 0\n",
        "\n",
        "num1 = int(input(\"Digite o primeiro número: \"))\n",
        "num2 = int(input(\"Digite o segundo número: \"))\n",
        "\n",
        "if num1 < num2:\n",
        "  print(\"crescente\")\n",
        "  while ( num1 <= num2):\n",
        "    print(num1)\n",
        "    num1 += 1\n",
        "elif num1 > num2:\n",
        "  print(\"decrescente\")\n",
        "  while ( num2 <= num1):\n",
        "    print(num2)\n",
        "    num2 += 1\n",
        "else:\n",
        "  print(\"iguais\")"
      ],
      "metadata": {
        "colab": {
          "base_uri": "https://localhost:8080/"
        },
        "id": "0pwd89dmtD4G",
        "outputId": "ae21c4a6-3461-49be-b430-a86456fa880f"
      },
      "execution_count": null,
      "outputs": [
        {
          "output_type": "stream",
          "name": "stdout",
          "text": [
            "Digite o primeiro número: 10\n",
            "Digite o segundo número: 15\n",
            "crescente\n",
            "10\n",
            "11\n",
            "12\n",
            "13\n",
            "14\n",
            "15\n"
          ]
        }
      ]
    },
    {
      "cell_type": "markdown",
      "source": [
        "### 14-- Escrever um programa em Python que lê 10 valores para n, um de cada vez, todos inteiros e positivos, e para cada n lido, escreva a tabuada de 1 até n de n.\n"
      ],
      "metadata": {
        "id": "o4k1B27Wtaym"
      }
    },
    {
      "cell_type": "code",
      "source": [
        "for x in range(10):\n",
        "  n = int(input(\"\\nDigite um número: \"))\n",
        "  print(\"tabuada do\", n)\n",
        "  for x in range(1,11):\n",
        "    r = x * n\n",
        "    print(n, \"x\", x, \"=\", r)\n"
      ],
      "metadata": {
        "colab": {
          "base_uri": "https://localhost:8080/"
        },
        "id": "qsw8hPdttacO",
        "outputId": "6cad2cce-cfa3-48a5-8378-fad4af24988b"
      },
      "execution_count": null,
      "outputs": [
        {
          "output_type": "stream",
          "name": "stdout",
          "text": [
            "\n",
            "Digite um número: 1\n",
            "tabuada do 1\n",
            "1 x 1 = 1\n",
            "1 x 2 = 2\n",
            "1 x 3 = 3\n",
            "1 x 4 = 4\n",
            "1 x 5 = 5\n",
            "1 x 6 = 6\n",
            "1 x 7 = 7\n",
            "1 x 8 = 8\n",
            "1 x 9 = 9\n",
            "1 x 10 = 10\n",
            "\n",
            "Digite um número: 2\n",
            "tabuada do 2\n",
            "2 x 1 = 2\n",
            "2 x 2 = 4\n",
            "2 x 3 = 6\n",
            "2 x 4 = 8\n",
            "2 x 5 = 10\n",
            "2 x 6 = 12\n",
            "2 x 7 = 14\n",
            "2 x 8 = 16\n",
            "2 x 9 = 18\n",
            "2 x 10 = 20\n",
            "\n",
            "Digite um número: 3\n",
            "tabuada do 3\n",
            "3 x 1 = 3\n",
            "3 x 2 = 6\n",
            "3 x 3 = 9\n",
            "3 x 4 = 12\n",
            "3 x 5 = 15\n",
            "3 x 6 = 18\n",
            "3 x 7 = 21\n",
            "3 x 8 = 24\n",
            "3 x 9 = 27\n",
            "3 x 10 = 30\n",
            "\n",
            "Digite um número: 4\n",
            "tabuada do 4\n",
            "4 x 1 = 4\n",
            "4 x 2 = 8\n",
            "4 x 3 = 12\n",
            "4 x 4 = 16\n",
            "4 x 5 = 20\n",
            "4 x 6 = 24\n",
            "4 x 7 = 28\n",
            "4 x 8 = 32\n",
            "4 x 9 = 36\n",
            "4 x 10 = 40\n",
            "\n",
            "Digite um número: 5\n",
            "tabuada do 5\n",
            "5 x 1 = 5\n",
            "5 x 2 = 10\n",
            "5 x 3 = 15\n",
            "5 x 4 = 20\n",
            "5 x 5 = 25\n",
            "5 x 6 = 30\n",
            "5 x 7 = 35\n",
            "5 x 8 = 40\n",
            "5 x 9 = 45\n",
            "5 x 10 = 50\n",
            "\n",
            "Digite um número: 6\n",
            "tabuada do 6\n",
            "6 x 1 = 6\n",
            "6 x 2 = 12\n",
            "6 x 3 = 18\n",
            "6 x 4 = 24\n",
            "6 x 5 = 30\n",
            "6 x 6 = 36\n",
            "6 x 7 = 42\n",
            "6 x 8 = 48\n",
            "6 x 9 = 54\n",
            "6 x 10 = 60\n",
            "\n",
            "Digite um número: 7\n",
            "tabuada do 7\n",
            "7 x 1 = 7\n",
            "7 x 2 = 14\n",
            "7 x 3 = 21\n",
            "7 x 4 = 28\n",
            "7 x 5 = 35\n",
            "7 x 6 = 42\n",
            "7 x 7 = 49\n",
            "7 x 8 = 56\n",
            "7 x 9 = 63\n",
            "7 x 10 = 70\n",
            "\n",
            "Digite um número: 8\n",
            "tabuada do 8\n",
            "8 x 1 = 8\n",
            "8 x 2 = 16\n",
            "8 x 3 = 24\n",
            "8 x 4 = 32\n",
            "8 x 5 = 40\n",
            "8 x 6 = 48\n",
            "8 x 7 = 56\n",
            "8 x 8 = 64\n",
            "8 x 9 = 72\n",
            "8 x 10 = 80\n",
            "\n",
            "Digite um número: 9\n",
            "tabuada do 9\n",
            "9 x 1 = 9\n",
            "9 x 2 = 18\n",
            "9 x 3 = 27\n",
            "9 x 4 = 36\n",
            "9 x 5 = 45\n",
            "9 x 6 = 54\n",
            "9 x 7 = 63\n",
            "9 x 8 = 72\n",
            "9 x 9 = 81\n",
            "9 x 10 = 90\n",
            "\n",
            "Digite um número: 10\n",
            "tabuada do 10\n",
            "10 x 1 = 10\n",
            "10 x 2 = 20\n",
            "10 x 3 = 30\n",
            "10 x 4 = 40\n",
            "10 x 5 = 50\n",
            "10 x 6 = 60\n",
            "10 x 7 = 70\n",
            "10 x 8 = 80\n",
            "10 x 9 = 90\n",
            "10 x 10 = 100\n"
          ]
        }
      ]
    },
    {
      "cell_type": "markdown",
      "source": [
        "### Desafio extra  --- 1 Escreva um programa que lê um número inteiro N do usuário. O programa deverá escrever na tela o fatorial desse número (N!)."
      ],
      "metadata": {
        "id": "qUm3Mr903zCs"
      }
    },
    {
      "cell_type": "code",
      "source": [
        "num1 = int(input(\"Digite um número: \"))\n",
        "fatorial = 1\n",
        "for x in range(1, num1 + 1):\n",
        "  fatorial *= x\n",
        "print(fatorial)"
      ],
      "metadata": {
        "colab": {
          "base_uri": "https://localhost:8080/"
        },
        "id": "B2Og0nQy3yxo",
        "outputId": "2f2bae73-3785-4e2d-e32f-0e64efb20c9f"
      },
      "execution_count": null,
      "outputs": [
        {
          "output_type": "stream",
          "name": "stdout",
          "text": [
            "Digite um número: 1234\n",
            "51084981466469576881306176261004598750272741624636207875758364885679783886389114119904367398214909451616865959797190085595957216060201081790863562740711392408402606162284424347926444168293770306459877429620549980121621880068812119922825565603750036793657428476498577316887890689284884464423522469162924654419945496940052746066950867784084753581540148194316888303839694860870357008235525028115281402379270279446743097868896180567901452872031734195056432576568754346528258569883526859826727735838654082246721751819658052692396270611348013013786739320229706009940781025586038809493013992111030432473321532228589636150722621360366978607484692870955691740723349227220367512994355146567475980006373400215826077949494335370591623671142026957923937669224771617167959359650439966392673073180139376563073706562200771241291710828132078928672693377605280698340976512622686207175259108984253979970269330591951400265868944014001740606398220709859461709972092316953639707607509036387468655214963966625322700932867195641466506305265122238332824677892386098873045477946570475614470735681011537762930068333229753461311175690053190276217215938122229254011663319535668562288276814566536254139944327446923749675156838399258655227114181067181300031191298489076680172983118121156086627360397334232174932132686080901569496392129263706595509472541921027039947595787992209537069031379517112985804276412719491334730247762876260753560199012424360211862466047511184797159731714330368251192307852167757615200611669009575630075581632200897019110165738489288234845801413542090086926381756642228872729319587724120647133695447658709466047131787467521648967375146176025775545958018149895570817463048968329692812003996105944812538484291689075721849889797647554854834050132592317503861422078077932841396250772305892378304960421024845815047928229669342818218960243579473180986996883486164613586224677782405363675732940386436560159992961462550218529921214223556288943276860000631422449845365510986932611414112386178573447134236164502410346254516421812825350152383907925299199371093902393126317590337340371199288380603694517035662665827287352023563128756402516081749705325705196477769315311164029733067419282135214232605607889159739038923579732630816548135472123812968829466513428484683760888731900685205308016495533252055718190142644320009683032677163609744614629730631454898167462966265387871725580083514565623719270635683662268663333999029883429331462872848995229714115709023973771126468913873648061531223428749576267079084534656923514931496743842559669386638509884709307166187205161445819828263679270112614012378542273837296427044021252077863706963514486218183806491868791174785424506337810550453063897866281127060200866754011181906809870372032953354528699094096145120997842075109057859226120844176454175393781254004382091350994101959406590175402086698874583611581937347003423449521223245166665792257252160462357733000925232292157683100179557359793926298007588370474068230320921987459976042606283566005158202572800000000000000000000000000000000000000000000000000000000000000000000000000000000000000000000000000000000000000000000000000000000000000000000000000000000000000000000000000000000000000000000000000000000000000000000000000000000000000000000000000000000000000000000000000000000000000000000000000000000000000000\n"
          ]
        }
      ]
    },
    {
      "cell_type": "markdown",
      "source": [
        "### Desafio extra ---- 2 Escreva um programa para uma urna eletrônica. O programa fica lendo os votos até que o usuário informe o valor 4444444 (código de finalização da urna). Após a finalização da urna, o programa deverá escrever na tela a quantidade de votos e o percentual de votos para cada uma das opções abaixo:\n",
        "a. Votos no Candidato 77\n",
        "\n",
        "b. Votos no Candidato 39\n",
        "\n",
        "c. Votos no Candidato 66\n",
        "\n",
        "d. Voto em branco (0)\n",
        "\n",
        "e. Votos nulos (nenhuma das opções anteriores)\n",
        "\n",
        "f. Votos válidos (aqueles computados para algum candidato)\n",
        "\n",
        "g. Votos não válidos"
      ],
      "metadata": {
        "id": "nbmKdIZt4MHd"
      }
    },
    {
      "cell_type": "code",
      "source": [
        "from IPython.display import Audio\n",
        "import time\n",
        "file_path = '/content/bip.mp3'\n",
        "\n",
        "\n",
        "\n",
        "voto = 0\n",
        "num_votos = -1\n",
        "candidato77 = 0\n",
        "candidato39 = 0\n",
        "candidato66 = 0\n",
        "nulo = 0\n",
        "branco = 0\n",
        "voto_invalido = 0\n",
        "\n",
        "while ( voto != \"4444444\"):\n",
        "  voto = input(\"Digite o seu voto: \")\n",
        "  Audio(file_path, autoplay=True)\n",
        "  time.sleep(10)\n",
        "  num_votos += 1\n",
        "  if voto == \"77\":\n",
        "    candidato77 += 1\n",
        "  elif voto == \"39\":\n",
        "    candidato39 += 1\n",
        "  elif voto == \"66\":\n",
        "    candidato66 += 1\n",
        "  elif voto == \"0\":\n",
        "    branco += 1\n",
        "  elif voto == int and voto != 77 and voto != 39 and voto != 66 and voto != 0 and voto != 4444444:\n",
        "    nulo += 1\n",
        "\n",
        "\n",
        "print(\"total de votos:\", num_votos)\n",
        "if num_votos > 0:\n",
        "  print(\"Votos no candidato 77: \", candidato77, \" -- porcentagem final:\", round((candidato77 / num_votos ) * 100, 2), \"%\")\n",
        "  print(\"Votos no candidato 39: \", candidato39, \"--porcentagem final:\", round((candidato39 / num_votos ) * 100, 2), \"%\")\n",
        "  print(\"Votos no candidato 66: \", candidato66, \"--porcentagem final:\", round((candidato66 / num_votos ) * 100, 2), \"%\")\n",
        "  print(\"Votos em branco: \", branco, \"--porcentagem final:\", round((branco / num_votos ) * 100, 2), \"%\")\n",
        "  print(\"Votos nulos: \", nulo, \"--porcentagem final:\", round((nulo / num_votos ) * 100, 2), \"%\")\n",
        "  print(\"votos inválidos:\", voto_invalido, \"--porcentagem final:\", round((voto_invalido / num_votos ) * 100, 2), \"%\")\n",
        "else:\n",
        "  print(\"Nenhum voto foi computado\")\n",
        "\n"
      ],
      "metadata": {
        "id": "Hjydr35I4Xbc",
        "colab": {
          "base_uri": "https://localhost:8080/",
          "height": 356
        },
        "outputId": "5a47179f-e4f8-4de4-f4d8-9042c9b773fe"
      },
      "execution_count": null,
      "outputs": [
        {
          "output_type": "error",
          "ename": "KeyboardInterrupt",
          "evalue": "Interrupted by user",
          "traceback": [
            "\u001b[0;31m---------------------------------------------------------------------------\u001b[0m",
            "\u001b[0;31mKeyboardInterrupt\u001b[0m                         Traceback (most recent call last)",
            "\u001b[0;32m<ipython-input-38-444078664365>\u001b[0m in \u001b[0;36m<cell line: 0>\u001b[0;34m()\u001b[0m\n\u001b[1;32m     14\u001b[0m \u001b[0;34m\u001b[0m\u001b[0m\n\u001b[1;32m     15\u001b[0m \u001b[0;32mwhile\u001b[0m \u001b[0;34m(\u001b[0m \u001b[0mvoto\u001b[0m \u001b[0;34m!=\u001b[0m \u001b[0;34m\"4444444\"\u001b[0m\u001b[0;34m)\u001b[0m\u001b[0;34m:\u001b[0m\u001b[0;34m\u001b[0m\u001b[0;34m\u001b[0m\u001b[0m\n\u001b[0;32m---> 16\u001b[0;31m   \u001b[0mvoto\u001b[0m \u001b[0;34m=\u001b[0m \u001b[0minput\u001b[0m\u001b[0;34m(\u001b[0m\u001b[0;34m\"Digite o seu voto: \"\u001b[0m\u001b[0;34m)\u001b[0m\u001b[0;34m\u001b[0m\u001b[0;34m\u001b[0m\u001b[0m\n\u001b[0m\u001b[1;32m     17\u001b[0m   \u001b[0mAudio\u001b[0m\u001b[0;34m(\u001b[0m\u001b[0mfile_path\u001b[0m\u001b[0;34m,\u001b[0m \u001b[0mautoplay\u001b[0m\u001b[0;34m=\u001b[0m\u001b[0;32mTrue\u001b[0m\u001b[0;34m)\u001b[0m\u001b[0;34m\u001b[0m\u001b[0;34m\u001b[0m\u001b[0m\n\u001b[1;32m     18\u001b[0m   \u001b[0mnum_votos\u001b[0m \u001b[0;34m+=\u001b[0m \u001b[0;36m1\u001b[0m\u001b[0;34m\u001b[0m\u001b[0;34m\u001b[0m\u001b[0m\n",
            "\u001b[0;32m/usr/local/lib/python3.11/dist-packages/ipykernel/kernelbase.py\u001b[0m in \u001b[0;36mraw_input\u001b[0;34m(self, prompt)\u001b[0m\n\u001b[1;32m   1175\u001b[0m                 \u001b[0;34m\"raw_input was called, but this frontend does not support input requests.\"\u001b[0m\u001b[0;34m\u001b[0m\u001b[0;34m\u001b[0m\u001b[0m\n\u001b[1;32m   1176\u001b[0m             )\n\u001b[0;32m-> 1177\u001b[0;31m         return self._input_request(\n\u001b[0m\u001b[1;32m   1178\u001b[0m             \u001b[0mstr\u001b[0m\u001b[0;34m(\u001b[0m\u001b[0mprompt\u001b[0m\u001b[0;34m)\u001b[0m\u001b[0;34m,\u001b[0m\u001b[0;34m\u001b[0m\u001b[0;34m\u001b[0m\u001b[0m\n\u001b[1;32m   1179\u001b[0m             \u001b[0mself\u001b[0m\u001b[0;34m.\u001b[0m\u001b[0m_parent_ident\u001b[0m\u001b[0;34m[\u001b[0m\u001b[0;34m\"shell\"\u001b[0m\u001b[0;34m]\u001b[0m\u001b[0;34m,\u001b[0m\u001b[0;34m\u001b[0m\u001b[0;34m\u001b[0m\u001b[0m\n",
            "\u001b[0;32m/usr/local/lib/python3.11/dist-packages/ipykernel/kernelbase.py\u001b[0m in \u001b[0;36m_input_request\u001b[0;34m(self, prompt, ident, parent, password)\u001b[0m\n\u001b[1;32m   1217\u001b[0m             \u001b[0;32mexcept\u001b[0m \u001b[0mKeyboardInterrupt\u001b[0m\u001b[0;34m:\u001b[0m\u001b[0;34m\u001b[0m\u001b[0;34m\u001b[0m\u001b[0m\n\u001b[1;32m   1218\u001b[0m                 \u001b[0;31m# re-raise KeyboardInterrupt, to truncate traceback\u001b[0m\u001b[0;34m\u001b[0m\u001b[0;34m\u001b[0m\u001b[0m\n\u001b[0;32m-> 1219\u001b[0;31m                 \u001b[0;32mraise\u001b[0m \u001b[0mKeyboardInterrupt\u001b[0m\u001b[0;34m(\u001b[0m\u001b[0;34m\"Interrupted by user\"\u001b[0m\u001b[0;34m)\u001b[0m \u001b[0;32mfrom\u001b[0m \u001b[0;32mNone\u001b[0m\u001b[0;34m\u001b[0m\u001b[0;34m\u001b[0m\u001b[0m\n\u001b[0m\u001b[1;32m   1220\u001b[0m             \u001b[0;32mexcept\u001b[0m \u001b[0mException\u001b[0m\u001b[0;34m:\u001b[0m\u001b[0;34m\u001b[0m\u001b[0;34m\u001b[0m\u001b[0m\n\u001b[1;32m   1221\u001b[0m                 \u001b[0mself\u001b[0m\u001b[0;34m.\u001b[0m\u001b[0mlog\u001b[0m\u001b[0;34m.\u001b[0m\u001b[0mwarning\u001b[0m\u001b[0;34m(\u001b[0m\u001b[0;34m\"Invalid Message:\"\u001b[0m\u001b[0;34m,\u001b[0m \u001b[0mexc_info\u001b[0m\u001b[0;34m=\u001b[0m\u001b[0;32mTrue\u001b[0m\u001b[0;34m)\u001b[0m\u001b[0;34m\u001b[0m\u001b[0;34m\u001b[0m\u001b[0m\n",
            "\u001b[0;31mKeyboardInterrupt\u001b[0m: Interrupted by user"
          ]
        }
      ]
    }
  ]
}