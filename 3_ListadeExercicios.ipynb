{
  "nbformat": 4,
  "nbformat_minor": 0,
  "metadata": {
    "colab": {
      "provenance": [],
      "authorship_tag": "ABX9TyOHjn+ebzpbfR1mvOrbfdGK"
    },
    "kernelspec": {
      "name": "python3",
      "display_name": "Python 3"
    },
    "language_info": {
      "name": "python"
    }
  },
  "cells": [
    {
      "cell_type": "markdown",
      "source": [
        "# Resolução de exercícios"
      ],
      "metadata": {
        "id": "YwJQm4zusNMW"
      }
    },
    {
      "cell_type": "markdown",
      "source": [
        "### 1-- Faça um algoritmo em Python para ler dois valores numéricos e apresentar a diferença do maior pelo menor."
      ],
      "metadata": {
        "id": "h11TkhYSsVyG"
      }
    },
    {
      "cell_type": "code",
      "execution_count": null,
      "metadata": {
        "colab": {
          "base_uri": "https://localhost:8080/"
        },
        "id": "TqJh9uuBsKCX",
        "outputId": "dbdbe9bd-25dd-458f-ddeb-43908cf3f54b"
      },
      "outputs": [
        {
          "output_type": "stream",
          "name": "stdout",
          "text": [
            "Digite o primeiro número: 7\n",
            "Digite o segundo número: 3\n",
            "a diferença do 7.0 para o 3.0 é 4.0\n"
          ]
        }
      ],
      "source": [
        "# Recebendo os dois números:\n",
        "num1 = float(input(\"Digite o primeiro número: \"))\n",
        "num2 = float(input(\"Digite o segundo número: \"))\n",
        "\n",
        "# verificando qual é maior, calculando a diferença e imprimindo o resultado:\n",
        "if num1 > num2:\n",
        "    diferenca = num1 - num2\n",
        "    print(\"a diferença do\", num1, \"para o\", num2, \"é\", diferenca)\n",
        "else:\n",
        "    diferenca = num2 - num1\n",
        "    print(\"a diferença do\", num2, \"para o\", num1, \"é\", diferenca)\n"
      ]
    },
    {
      "cell_type": "markdown",
      "source": [
        "### 2-- Faça um algoritmo em Python para ler dois números. Se os números forem iguais escrever a mensagem: \"NÚMEROS IGUAIS\" e encerrar a execução; caso contrário, escrever o de maior valor."
      ],
      "metadata": {
        "id": "EDzlCWxntZU4"
      }
    },
    {
      "cell_type": "code",
      "source": [
        "# declarando varáveis:\n",
        "num1 = float(input(\"Digite o primeiro número: \"))\n",
        "num2 = float(input(\"Digite o segundo número: \"))\n",
        "\n",
        "# verificando se os números são iguais:\n",
        "if num1 == num2:\n",
        "    print(\"NÚMEROS IGUAIS\")\n",
        "else:\n",
        "    # verificando qual é maior e imprimindo o que se espera:\n",
        "    if num1 > num2:\n",
        "        print(num1, \"é o maior.\")\n",
        "    else:\n",
        "        print(num2, \"é o maior.\")"
      ],
      "metadata": {
        "colab": {
          "base_uri": "https://localhost:8080/"
        },
        "id": "tpaCJGd7tkPn",
        "outputId": "efaf85d9-615e-448c-cbe2-d13b0094382e"
      },
      "execution_count": null,
      "outputs": [
        {
          "output_type": "stream",
          "name": "stdout",
          "text": [
            "Digite o primeiro número: 3.9\n",
            "Digite o segundo número: 7\n",
            "7.0 é o maior.\n"
          ]
        }
      ]
    },
    {
      "cell_type": "markdown",
      "source": [
        "### 3-- Faça um algoritmo em Python para ler dois valores: NUM1 e NUM2, e se NUM1 for maior que NUM2 executa a soma de NUM1 e NUM2; caso contrário, executa uma subtração."
      ],
      "metadata": {
        "id": "4Un_ZQp-uUei"
      }
    },
    {
      "cell_type": "code",
      "source": [
        "# declarando varriáveis:\n",
        "num1 = float(input(\"Digite o primeiro número: \"))\n",
        "num2 = float(input(\"Digite o segundo número: \"))\n",
        "\n",
        "# verificando se NUM1 é maior que NUM2 e calculando a operação solicitada:\n",
        "if num1 > num2:\n",
        "    soma = num1 + num2\n",
        "    print(\"A soma de\", num1, \"e\", num2, \"é\", soma)\n",
        "else:\n",
        "    subtracao = num1 - num2\n",
        "    print(\"A subtração de\", num1, \"e\", num2, \"é\", subtracao )"
      ],
      "metadata": {
        "colab": {
          "base_uri": "https://localhost:8080/"
        },
        "id": "b-csQgr-uhFF",
        "outputId": "2ccb664f-5ad5-4b5a-c18d-7dbf09bc356f"
      },
      "execution_count": null,
      "outputs": [
        {
          "output_type": "stream",
          "name": "stdout",
          "text": [
            "Digite o primeiro número: 10\n",
            "Digite o segundo número: 5\n",
            "A soma de 10.0 e 5.0 é 15.0\n"
          ]
        }
      ]
    },
    {
      "cell_type": "markdown",
      "source": [
        "### 4-- O hotel Pica-Pau cobra R$ 150,00 a diária e mais uma taxa de serviços. A taxa de serviços é de:\n",
        "\n",
        "#### ● R\\$ 15 por dia, se número de diárias <15\n",
        "#### ● R\\$ 10 por dia, se número de diárias =15\n",
        "#### ● R\\$ 5 por dia, se número de diárias >15\n",
        "\n",
        "#### Faça um algoritmo em Python que lê o número de diárias e calcula o total a ser pago pelo cliente."
      ],
      "metadata": {
        "id": "hFBw6k_lvLzd"
      }
    },
    {
      "cell_type": "code",
      "source": [
        "# declarando variáveis\n",
        "num_diarias = 0\n",
        "total = 0\n",
        "\n",
        "# solicitando n° de diárias\n",
        "num_diarias = int(input(\"Digite o número de diárias: \"))\n",
        "\n",
        "# Vericando taxa de serviço\n",
        "if num_diarias < 15:\n",
        "    taxa_servicos = 15\n",
        "elif num_diarias == 15:\n",
        "    taxa_servicos = 10\n",
        "else:\n",
        "    taxa_servicos = 5\n",
        "\n",
        "# calculando valor total e imprimindo resultado:\n",
        "total = 150 + taxa_servicos * num_diarias\n",
        "print(\"O total a ser pago é de R$\", total)\n"
      ],
      "metadata": {
        "colab": {
          "base_uri": "https://localhost:8080/"
        },
        "id": "5g_vW-z2vf8v",
        "outputId": "7a85b077-cd08-4ab6-cb28-ee327eb06e12"
      },
      "execution_count": null,
      "outputs": [
        {
          "output_type": "stream",
          "name": "stdout",
          "text": [
            "Digite o número de diárias: 15\n",
            "O total a ser pago é de R$ 300\n"
          ]
        }
      ]
    },
    {
      "cell_type": "markdown",
      "source": [
        "### 5-- Escrever um programa em Python que lê as 3 notas obtidas por ele em provas. Para cada aluno, calcular a média de aproveitamento, usando a fórmula: MA = (Nl + N2 + N3)/3\n",
        "\n",
        "\n",
        "A atribuição de conceitos obedece à tabela abaixo:\n",
        "Média de Aproveitamento Conceito\n",
        "###### ○     >= 9.0 A >= 7.5 e < 9.0 B >= 6.0 e < 7.5 C >= 4.0 e < 6.0 D < 4.0 E\n",
        "\n",
        "O programa deve escrever as notas, a média de aproveitamento, o conceito\n",
        "correspondente e a mensagem: \"APROVADO\" se o conceito for A, B, ou C e\n",
        "\"REPROVADO\" se conceito for D ou E."
      ],
      "metadata": {
        "id": "vkFuNLeyxBu8"
      }
    },
    {
      "cell_type": "code",
      "source": [
        "# declarando variáveis:\n",
        "nota1 = 0\n",
        "nota2 = 0\n",
        "nota3 = 0\n",
        "ma = 0\n",
        "resultado = \"\"\n",
        "\n",
        "# solicitando notas:\n",
        "nota1 = float(input(\"Digite a primeira nota: \"))\n",
        "nota2 = float(input(\"Digite a segunda nota: \"))\n",
        "nota3 = float(input(\"Digite a terceira nota: \"))\n",
        "\n",
        "#calculando média\n",
        "ma = (nota1 + nota2 + nota3)/3\n",
        "\n",
        "#verificando conceito\n",
        "if ma >= 9.0:\n",
        "    conceito = \"A\"\n",
        "    resultado = \"APROVADO\"\n",
        "else:\n",
        "    if ma >= 7.5:\n",
        "        conceito = \"B\"\n",
        "        resultado = \"APROVADO\"\n",
        "    else:\n",
        "            if ma >= 6.0:\n",
        "                conceito = \"C\"\n",
        "                resultado = \"APROVADO\"\n",
        "            else:\n",
        "                    if ma >= 4.0:\n",
        "                        conceito = \"D\"\n",
        "                        resultado = \"REPROVADO\"\n",
        "                    else:\n",
        "                        conceito = \"E\"\n",
        "                        resultado = \"REPROVADO\"\n",
        "\n",
        "# imprimindo resultados:\n",
        "print(\"\\n==============================\")\n",
        "print(\"Notas: \", nota1, nota2, nota3)\n",
        "print(\"Média de aproveitamento: \", round(ma, 1))\n",
        "print(\"Conceito: \", conceito)\n",
        "print(\"Resultado: \", resultado)\n",
        "print(\"==============================\")\n",
        "\n",
        "\n"
      ],
      "metadata": {
        "colab": {
          "base_uri": "https://localhost:8080/"
        },
        "id": "3AYeEmwXxjD1",
        "outputId": "c7643b70-604d-46f9-f6e4-f97cf6e5812c"
      },
      "execution_count": null,
      "outputs": [
        {
          "output_type": "stream",
          "name": "stdout",
          "text": [
            "Digite a primeira nota: 5\n",
            "Digite a segunda nota: 8\n",
            "Digite a terceira nota: 10\n",
            "\n",
            "==============================\n",
            "Notas:  5.0 8.0 10.0\n",
            "Média de aproveitamento:  7.7\n",
            "Conceito:  B\n",
            "Resultado:  APROVADO\n",
            "==============================\n"
          ]
        }
      ]
    },
    {
      "cell_type": "markdown",
      "source": [
        "### 6-- Faça um programa em Python que leia a altura e o sexo de uma pessoa, calcule seu peso ideal, utilizando as seguintes fórmulas:\n",
        "##### ● homens : (72,7*altura) –58\n",
        "##### ● mulheres : (62,1*altura) – 44,7"
      ],
      "metadata": {
        "id": "lxu-_QbzztkW"
      }
    },
    {
      "cell_type": "code",
      "source": [
        "# declarando variáveis:\n",
        "altura = 0\n",
        "sexo = \"\"\n",
        "\n",
        "altura = float(input(\"Digite a altura: \"))\n",
        "sexo = input(\"Digite o sexo (M/F): \")\n",
        "\n",
        "#verificando sexo\n",
        "if sexo == \"M\" or \"m\":\n",
        "    peso_ideal = (72.7 * altura) - 58\n",
        "    print(\"O peso ideal é: \", round(peso_ideal, 2))\n",
        "else:\n",
        "    if sexo == \"F\" or \"f\":\n",
        "        peso_ideal = (62.1 * altura) - 44.7\n",
        "        print(\"O peso ideal é: \", round(peso_ideal, 2))\n",
        "    else:\n",
        "        print(\"Sexo inválido\")"
      ],
      "metadata": {
        "colab": {
          "base_uri": "https://localhost:8080/"
        },
        "id": "yrAf-d5Uz5MF",
        "outputId": "abd7029b-e266-44bd-e7e4-47926a24621a"
      },
      "execution_count": null,
      "outputs": [
        {
          "output_type": "stream",
          "name": "stdout",
          "text": [
            "Digite a altura: 1.85\n",
            "Digite o sexo (M/F): m\n",
            "O peso ideal é:  76.5\n"
          ]
        }
      ]
    },
    {
      "cell_type": "markdown",
      "source": [
        "### 7-- Escrever um programa em Python que lê os seguintes dados de um funcionário: o número de horas trabalhadas e o valor que recebe por hora. Calcular e escrever, o salário bruto (SB) e o valor de desconto do Imposto de Renda (IR) como segue:\n",
        "\n",
        "##### ● Se SB > 3.500,00 então IR = 15% do SB\n",
        "##### ● Se SB > 1.500,00 e SB <= 3.500,00 então IR = 8% do SB\n",
        "##### ● Se SB <= 1.500,00 então IR = 0."
      ],
      "metadata": {
        "id": "nViTTBmq0w-I"
      }
    },
    {
      "cell_type": "code",
      "source": [
        "#declarando variáveis\n",
        "num_horas_trabalhadas = 0\n",
        "valor_hora = 0\n",
        "sb = 0\n",
        "ir = 0\n",
        "\n",
        "#solicitando dados\n",
        "num_horas_trabalhadas = float(input(\"Digite o número de horas trabalhadas: \"))\n",
        "valor_hora = float(input(\"Digite o valor que recebe por hora: \"))\n",
        "\n",
        "#calculando salário bruto\n",
        "sb = num_horas_trabalhadas * valor_hora\n",
        "\n",
        "# calculando desconto\n",
        "if sb > 3500:\n",
        "    ir = 0.15 * sb\n",
        "elif sb > 1500:\n",
        "    ir = 0.08 * sb\n",
        "else:\n",
        "    ir = 0\n",
        "\n",
        "# imprimindo respostas\n",
        "print(\"\\n=====PAGAMENTO==============\")\n",
        "print(\"Salário bruto: \", round(sb,2))\n",
        "print(\"Desconto do IR: \", round(ir,2))\n",
        "print(\"Salário líquido: \", round (sb - ir, 2))\n",
        "print(\"==============================\")\n"
      ],
      "metadata": {
        "colab": {
          "base_uri": "https://localhost:8080/"
        },
        "id": "LatvVkHE0_KA",
        "outputId": "03255532-47e1-4282-b5fc-0fcc59758f66"
      },
      "execution_count": null,
      "outputs": [
        {
          "output_type": "stream",
          "name": "stdout",
          "text": [
            "Digite o número de horas trabalhadas: 200\n",
            "Digite o valor que recebe por hora: 25\n",
            "\n",
            "=====PAGAMENTO==============\n",
            "Salário bruto:  5000.0\n",
            "Desconto do IR:  750.0\n",
            "Salário líquido:  4250.0\n",
            "==============================\n"
          ]
        }
      ]
    }
  ]
}